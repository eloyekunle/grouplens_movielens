{
 "cells": [
  {
   "cell_type": "markdown",
   "metadata": {},
   "source": [
    "# Recommender Systems with Movielens Data"
   ]
  },
  {
   "cell_type": "markdown",
   "metadata": {},
   "source": [
    "## Splitting into Training and Testing Data"
   ]
  },
  {
   "cell_type": "markdown",
   "metadata": {},
   "source": [
    "### Loading Data from Disk"
   ]
  },
  {
   "cell_type": "code",
   "execution_count": 1,
   "metadata": {
    "collapsed": true
   },
   "outputs": [],
   "source": [
    "import numpy as np\n",
    "from scipy import sparse"
   ]
  },
  {
   "cell_type": "code",
   "execution_count": 2,
   "metadata": {
    "collapsed": true
   },
   "outputs": [],
   "source": [
    "def load():    \n",
    "    data = np.loadtxt('data/ml-100k/u.data')\n",
    "    ij = data[:, :2]\n",
    "    ij -= 1\n",
    "    values = data[:, 2]\n",
    "    reviews = sparse.csc_matrix((values, ij.T)).astype(float)\n",
    "    return reviews.toarray()"
   ]
  },
  {
   "cell_type": "code",
   "execution_count": 3,
   "metadata": {
    "collapsed": true
   },
   "outputs": [],
   "source": [
    "reviews = load()\n",
    "U,M = np.where(reviews)"
   ]
  },
  {
   "cell_type": "code",
   "execution_count": 4,
   "metadata": {
    "collapsed": true
   },
   "outputs": [],
   "source": [
    "import random\n",
    "test_idxs = np.array(random.sample(range(len(U)), len(U)//10))"
   ]
  },
  {
   "cell_type": "code",
   "execution_count": 5,
   "metadata": {
    "collapsed": true
   },
   "outputs": [],
   "source": [
    "train = reviews.copy()\n",
    "train[U[test_idxs], M[test_idxs]] = 0"
   ]
  },
  {
   "cell_type": "code",
   "execution_count": 6,
   "metadata": {
    "collapsed": true
   },
   "outputs": [],
   "source": [
    "test = np.zeros_like(reviews)\n",
    "test[U[test_idxs], M[test_idxs]] = reviews[U[test_idxs], M[test_idxs]]"
   ]
  },
  {
   "cell_type": "code",
   "execution_count": 7,
   "metadata": {
    "collapsed": true
   },
   "outputs": [],
   "source": [
    "class NormalizePositive(object):\n",
    "    def __init__(self, axis=0):\n",
    "        self.axis = axis\n",
    "    \n",
    "    def fit(self, features, y=None):\n",
    "        if self.axis == 1:\n",
    "            features = features.T\n",
    "        binary = (features > 0)\n",
    "        count0 = binary.sum(axis=0)\n",
    "        count0[count0 == 0] = 1\n",
    "        self.mean = features.sum(axis=0)/count0\n",
    "        diff = (features - self.mean) * binary\n",
    "        diff **=2\n",
    "        self.std = np.sqrt(0.1 + diff.sum(axis=0)/count0)\n",
    "        return self\n",
    "    \n",
    "    def transform(self, features):\n",
    "        if self.axis == 1:\n",
    "            features = features.T\n",
    "        binary = (features > 0)\n",
    "        features = features - self.mean\n",
    "        features /= self.std\n",
    "        features *= binary\n",
    "        if self.axis == 1:\n",
    "            features = features.T\n",
    "        return features\n",
    "    \n",
    "    def inverse_transform(self, features, copy=True):\n",
    "        if copy:\n",
    "            features = features.copy()\n",
    "        if self.axis == 1:\n",
    "            features = features.T\n",
    "        features *= self.std\n",
    "        features += self.mean\n",
    "        if self.axis == 1:\n",
    "            features = features.T\n",
    "        return features\n",
    "    \n",
    "    def fit_transform(self, features):\n",
    "        return self.fit(features).transform(features)"
   ]
  },
  {
   "cell_type": "markdown",
   "metadata": {},
   "source": [
    "We want to visualize the data now. Each rating is depicted as a little square."
   ]
  },
  {
   "cell_type": "code",
   "execution_count": 8,
   "metadata": {},
   "outputs": [
    {
     "data": {
      "text/plain": [
       "<matplotlib.image.AxesImage at 0x7fe033a34e48>"
      ]
     },
     "execution_count": 8,
     "metadata": {},
     "output_type": "execute_result"
    },
    {
     "data": {
      "image/png": "[encoded data removed]",
      "text/plain": [
       "<matplotlib.figure.Figure at 0x7fe058edc3c8>"
      ]
     },
     "metadata": {},
     "output_type": "display_data"
    }
   ],
   "source": [
    "from matplotlib import pyplot as plt\n",
    "%matplotlib inline\n",
    "norm = NormalizePositive(axis=1)\n",
    "binary = (train > 0)\n",
    "train = norm.fit_transform(train)\n",
    "plt.imshow(binary[:200, :200], interpolation='nearest')"
   ]
  },
  {
   "cell_type": "markdown",
   "metadata": {},
   "source": [
    "### Using Neighborhood Approach"
   ]
  },
  {
   "cell_type": "code",
   "execution_count": 9,
   "metadata": {},
   "outputs": [],
   "source": [
    "from scipy.spatial import distance\n",
    "dists = distance.pdist(binary, 'correlation')\n",
    "dists = distance.squareform(dists)"
   ]
  },
  {
   "cell_type": "code",
   "execution_count": 10,
   "metadata": {
    "collapsed": true
   },
   "outputs": [],
   "source": [
    "neighbors = dists.argsort(axis=1)"
   ]
  },
  {
   "cell_type": "code",
   "execution_count": 11,
   "metadata": {
    "collapsed": true
   },
   "outputs": [],
   "source": [
    "filled = train.copy()\n",
    "for u in range(filled.shape[0]):\n",
    "    n_u = neighbors[u, 1:]\n",
    "for m in range(filled.shape[1]):\n",
    "    revs = [train[neigh, m]\n",
    "               for neigh in n_u\n",
    "                   if binary [neigh, m]]\n",
    "    if len(revs):\n",
    "        n = len(revs)\n",
    "        n //= 2\n",
    "        n += 1\n",
    "        revs = revs[:n]\n",
    "        filled[u, m] = np.mean(revs)"
   ]
  },
  {
   "cell_type": "code",
   "execution_count": 12,
   "metadata": {
    "collapsed": true
   },
   "outputs": [],
   "source": [
    "predicted = norm.inverse_transform(filled)"
   ]
  },
  {
   "cell_type": "code",
   "execution_count": 13,
   "metadata": {
    "collapsed": true
   },
   "outputs": [],
   "source": [
    "from sklearn import metrics"
   ]
  },
  {
   "cell_type": "code",
   "execution_count": 16,
   "metadata": {},
   "outputs": [
    {
     "name": "stdout",
     "output_type": "stream",
     "text": [
      "R2 score (binary neighbors): 13.4%\n"
     ]
    }
   ],
   "source": [
    "reviews = reviews.T\n",
    "r2 = metrics.r2_score(test[test > 0], predicted[test > 0])\n",
    "print('R2 score (binary neighbors): {:.1%}'.format(r2))"
   ]
  },
  {
   "cell_type": "markdown",
   "metadata": {},
   "source": [
    "### Using Regression"
   ]
  },
  {
   "cell_type": "code",
   "execution_count": 20,
   "metadata": {},
   "outputs": [],
   "source": [
    "from sklearn.linear_model import ElasticNetCV\n",
    "reg = ElasticNetCV(alphas=[0.0125, 0.025, 0.05, 0.125, 0.25, .5, 1., 2., 4.])"
   ]
  },
  {
   "cell_type": "code",
   "execution_count": 21,
   "metadata": {
    "collapsed": true
   },
   "outputs": [],
   "source": [
    "filled = train.copy()"
   ]
  },
  {
   "cell_type": "code",
   "execution_count": null,
   "metadata": {},
   "outputs": [],
   "source": [
    "for u in range(train.shape[0]):\n",
    "    curtrain = np.delete(train, u, axis=0)\n",
    "    bu = binary[u]\n",
    "    reg.fit(curtrain[:,bu].T, train[u, bu])\n",
    "    filled[u, ~bu] = reg.predict(curtrain[:,~bu].T)"
   ]
  },
  {
   "cell_type": "code",
   "execution_count": null,
   "metadata": {
    "collapsed": true
   },
   "outputs": [],
   "source": []
  }
 ],
 "metadata": {
  "kernelspec": {
   "display_name": "Python 3",
   "language": "python",
   "name": "python3"
  },
  "language_info": {
   "codemirror_mode": {
    "name": "ipython",
    "version": 3
   },
   "file_extension": ".py",
   "mimetype": "text/x-python",
   "name": "python",
   "nbconvert_exporter": "python",
   "pygments_lexer": "ipython3",
   "version": "3.5.3"
  }
 },
 "nbformat": 4,
 "nbformat_minor": 2
}
